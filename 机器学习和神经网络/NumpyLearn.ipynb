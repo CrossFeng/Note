{
 "cells": [
  {
   "cell_type": "code",
   "execution_count": 2,
   "metadata": {
    "collapsed": true
   },
   "outputs": [],
   "source": [
    "import numpy as np;\n",
    "import time"
   ]
  },
  {
   "cell_type": "code",
   "execution_count": 12,
   "metadata": {},
   "outputs": [
    {
     "name": "stdout",
     "output_type": "stream",
     "text": [
      "[1250186.33764571]\n",
      "non-vectorized version:10517.011880874634ms\n"
     ]
    }
   ],
   "source": [
    "a = np.random.rand(5000000,1);\n",
    "b = np.random.rand(5000000,1);\n",
    "c = 0;\n",
    "tic = time.time();\n",
    "for i in range(5000000):\n",
    "    c+=a[i]*b[i];\n",
    "toc = time.time();\n",
    "print(c);\n",
    "print(\"non-vectorized version:\"+str(1000*(toc - tic))+\"ms\");\n"
   ]
  },
  {
   "cell_type": "code",
   "execution_count": 16,
   "metadata": {},
   "outputs": [
    {
     "data": {
      "text/plain": [
       "array([[1250186.33764586]])"
      ]
     },
     "execution_count": 16,
     "metadata": {},
     "output_type": "execute_result"
    }
   ],
   "source": [
    "np.dot(a.T,b)"
   ]
  },
  {
   "cell_type": "markdown",
   "metadata": {},
   "source": [
    "# Numpy"
   ]
  },
  {
   "cell_type": "code",
   "execution_count": null,
   "metadata": {
    "collapsed": true
   },
   "outputs": [],
   "source": [
    "a = np.random.randn(5)\n",
    "print(a)"
   ]
  },
  {
   "cell_type": "code",
   "execution_count": 16,
   "metadata": {},
   "outputs": [
    {
     "name": "stdout",
     "output_type": "stream",
     "text": [
      "(5,)\n",
      "[-0.12747773  0.2395001  -0.37288591 -0.83651151 -1.87619561]\n",
      "4.43251624082\n"
     ]
    }
   ],
   "source": [
    "print(a.shape)\n",
    "print(a.T)\n",
    "print (np.dot(a,a.T))"
   ]
  },
  {
   "cell_type": "code",
   "execution_count": 17,
   "metadata": {},
   "outputs": [
    {
     "name": "stdout",
     "output_type": "stream",
     "text": [
      "[[ 1.12304412]\n",
      " [-1.32526831]\n",
      " [-2.15376601]\n",
      " [-0.85416922]\n",
      " [ 0.95639977]]\n",
      "[[ 1.12304412 -1.32526831 -2.15376601 -0.85416922  0.95639977]]\n",
      "(5, 1)\n"
     ]
    }
   ],
   "source": [
    "a = np.random.randn(5,1)\n",
    "print(a)\n",
    "print(a.T)\n",
    "print(a.shape)"
   ]
  },
  {
   "cell_type": "code",
   "execution_count": null,
   "metadata": {
    "collapsed": true
   },
   "outputs": [],
   "source": []
  }
 ],
 "metadata": {
  "kernelspec": {
   "display_name": "Python 3",
   "language": "python",
   "name": "python3"
  },
  "language_info": {
   "codemirror_mode": {
    "name": "ipython",
    "version": 3
   },
   "file_extension": ".py",
   "mimetype": "text/x-python",
   "name": "python",
   "nbconvert_exporter": "python",
   "pygments_lexer": "ipython3",
   "version": "3.6.2"
  }
 },
 "nbformat": 4,
 "nbformat_minor": 2
}
