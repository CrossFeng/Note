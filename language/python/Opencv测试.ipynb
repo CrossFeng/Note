{
 "cells": [
  {
   "cell_type": "markdown",
   "metadata": {},
   "source": [
    "# Opencv3\n",
    " \n",
    " python测试"
   ]
  },
  {
   "cell_type": "code",
   "execution_count": 1,
   "metadata": {
    "collapsed": true
   },
   "outputs": [],
   "source": [
    "import cv2;\n",
    "\n",
    "img = cv2.imread(\"pic.jpg\");\n",
    "cv2.namedWindow(\"winpic.jpg\");\n",
    "cv2.imshow(\"winpic.jpg\",img);\n",
    "cv2.waitKey(0);"
   ]
  },
  {
   "cell_type": "code",
   "execution_count": 3,
   "metadata": {},
   "outputs": [
    {
     "ename": "AttributeError",
     "evalue": "module 'cv2.cv2' has no attribute 'ximgproc'",
     "output_type": "error",
     "traceback": [
      "\u001b[1;31m---------------------------------------------------------------------------\u001b[0m",
      "\u001b[1;31mAttributeError\u001b[0m                            Traceback (most recent call last)",
      "\u001b[1;32m<ipython-input-3-dda4f1dcfba6>\u001b[0m in \u001b[0;36m<module>\u001b[1;34m()\u001b[0m\n\u001b[1;32m----> 1\u001b[1;33m \u001b[0mss\u001b[0m \u001b[1;33m=\u001b[0m \u001b[0mcv2\u001b[0m\u001b[1;33m.\u001b[0m\u001b[0mximgproc\u001b[0m\u001b[1;33m.\u001b[0m\u001b[0msegmentation\u001b[0m\u001b[1;33m.\u001b[0m\u001b[0mcreateSelectiveSearchSegmentation\u001b[0m\u001b[1;33m(\u001b[0m\u001b[1;33m)\u001b[0m\u001b[1;33m\u001b[0m\u001b[0m\n\u001b[0m\u001b[0;32m      2\u001b[0m \u001b[0mcv2\u001b[0m\u001b[1;33m.\u001b[0m\u001b[0mdestroyAllWindows\u001b[0m\u001b[1;33m(\u001b[0m\u001b[1;33m)\u001b[0m\u001b[1;33m;\u001b[0m\u001b[1;33m\u001b[0m\u001b[0m\n",
      "\u001b[1;31mAttributeError\u001b[0m: module 'cv2.cv2' has no attribute 'ximgproc'"
     ]
    }
   ],
   "source": [
    " ss = cv2.ximgproc.segmentation.createSelectiveSearchSegmentation()\n",
    "cv2.destroyAllWindows();"
   ]
  },
  {
   "cell_type": "code",
   "execution_count": 1,
   "metadata": {},
   "outputs": [
    {
     "ename": "AttributeError",
     "evalue": "'NoneType' object has no attribute 'shape'",
     "output_type": "error",
     "traceback": [
      "\u001b[1;31m---------------------------------------------------------------------------\u001b[0m",
      "\u001b[1;31mAttributeError\u001b[0m                            Traceback (most recent call last)",
      "\u001b[1;32m<ipython-input-1-d70acdc5a027>\u001b[0m in \u001b[0;36m<module>\u001b[1;34m()\u001b[0m\n\u001b[0;32m     25\u001b[0m     \u001b[1;31m# resize image\u001b[0m\u001b[1;33m\u001b[0m\u001b[1;33m\u001b[0m\u001b[0m\n\u001b[0;32m     26\u001b[0m     \u001b[0mnewHeight\u001b[0m \u001b[1;33m=\u001b[0m \u001b[1;36m200\u001b[0m\u001b[1;33m\u001b[0m\u001b[0m\n\u001b[1;32m---> 27\u001b[1;33m     \u001b[0mnewWidth\u001b[0m \u001b[1;33m=\u001b[0m \u001b[0mint\u001b[0m\u001b[1;33m(\u001b[0m\u001b[0mim\u001b[0m\u001b[1;33m.\u001b[0m\u001b[0mshape\u001b[0m\u001b[1;33m[\u001b[0m\u001b[1;36m1\u001b[0m\u001b[1;33m]\u001b[0m\u001b[1;33m*\u001b[0m\u001b[1;36m200\u001b[0m\u001b[1;33m/\u001b[0m\u001b[0mim\u001b[0m\u001b[1;33m.\u001b[0m\u001b[0mshape\u001b[0m\u001b[1;33m[\u001b[0m\u001b[1;36m0\u001b[0m\u001b[1;33m]\u001b[0m\u001b[1;33m)\u001b[0m\u001b[1;33m\u001b[0m\u001b[0m\n\u001b[0m\u001b[0;32m     28\u001b[0m     \u001b[0mim\u001b[0m \u001b[1;33m=\u001b[0m \u001b[0mcv2\u001b[0m\u001b[1;33m.\u001b[0m\u001b[0mresize\u001b[0m\u001b[1;33m(\u001b[0m\u001b[0mim\u001b[0m\u001b[1;33m,\u001b[0m \u001b[1;33m(\u001b[0m\u001b[0mnewWidth\u001b[0m\u001b[1;33m,\u001b[0m \u001b[0mnewHeight\u001b[0m\u001b[1;33m)\u001b[0m\u001b[1;33m)\u001b[0m\u001b[1;33m\u001b[0m\u001b[0m\n\u001b[0;32m     29\u001b[0m \u001b[1;33m\u001b[0m\u001b[0m\n",
      "\u001b[1;31mAttributeError\u001b[0m: 'NoneType' object has no attribute 'shape'"
     ]
    }
   ],
   "source": [
    "#!/usr/bin/env python\n",
    "'''\n",
    "Usage:\n",
    "    ./ssearch.py input_image (f|q)\n",
    "    f=fast, q=quality\n",
    "Use \"f\" to display less rects, 'm' to display more rects, \"q\" to quit.\n",
    "'''\n",
    " \n",
    "import sys\n",
    "import cv2\n",
    " \n",
    "if __name__ == '__main__':\n",
    "    # If image path and f/q is not passed as command\n",
    "    # line arguments, quit and display help message\n",
    "    if len(sys.argv) < 3:\n",
    "        print(__doc__)\n",
    "        sys.exit(1)\n",
    " \n",
    "    # speed-up using multithreads\n",
    "    cv2.setUseOptimized(True);\n",
    "    cv2.setNumThreads(4);\n",
    " \n",
    "    # read image\n",
    "    im = cv2.imread(sys.argv[1])\n",
    "    # resize image\n",
    "    newHeight = 200\n",
    "    newWidth = int(im.shape[1]*200/im.shape[0])\n",
    "    im = cv2.resize(im, (newWidth, newHeight))    \n",
    " \n",
    "    # create Selective Search Segmentation Object using default parameters\n",
    "    ss = cv2.ximgproc.segmentation.createSelectiveSearchSegmentation()\n",
    " \n",
    "    # set input image on which we will run segmentation\n",
    "    ss.setBaseImage(im)\n",
    " \n",
    "    # Switch to fast but low recall Selective Search method\n",
    "    if (sys.argv[2] == 'f'):\n",
    "        ss.switchToSelectiveSearchFast()\n",
    " \n",
    "    # Switch to high recall but slow Selective Search method\n",
    "    elif (sys.argv[2] == 'q'):\n",
    "        ss.switchToSelectiveSearchQuality()\n",
    "    # if argument is neither f nor q print help message\n",
    "    else:\n",
    "        print(__doc__)\n",
    "        sys.exit(1)\n",
    " \n",
    "    # run selective search segmentation on input image\n",
    "    rects = ss.process()\n",
    "    print('Total Number of Region Proposals: {}'.format(len(rects)))\n",
    "     \n",
    "    # number of region proposals to show\n",
    "    numShowRects = 100\n",
    "    # increment to increase/decrease total number\n",
    "    # of reason proposals to be shown\n",
    "    increment = 50\n",
    " \n",
    "    while True:\n",
    "        # create a copy of original image\n",
    "        imOut = im.copy()\n",
    " \n",
    "        # itereate over all the region proposals\n",
    "        for i, rect in enumerate(rects):\n",
    "            # draw rectangle for region proposal till numShowRects\n",
    "            if (i < numShowRects):\n",
    "                x, y, w, h = rect\n",
    "                cv2.rectangle(imOut, (x, y), (x+w, y+h), (0, 255, 0), 1, cv2.LINE_AA)\n",
    "            else:\n",
    "                break\n",
    " \n",
    "        # show output\n",
    "        cv2.imshow(\"Output\", imOut)\n",
    " \n",
    "        # record key press\n",
    "        k = cv2.waitKey(0) & 0xFF\n",
    " \n",
    "        # m is pressed\n",
    "        if k == 109:\n",
    "            # increase total number of rectangles to show by increment\n",
    "            numShowRects += increment\n",
    "        # l is pressed\n",
    "        elif k == 108 and numShowRects > increment:\n",
    "            # decrease total number of rectangles to show by increment\n",
    "            numShowRects -= increment\n",
    "        # q is pressed\n",
    "        elif k == 113:\n",
    "            break\n",
    "    # close image show window\n",
    "    cv2.destroyAllWindows()"
   ]
  }
 ],
 "metadata": {
  "kernelspec": {
   "display_name": "Python 3",
   "language": "python",
   "name": "python3"
  },
  "language_info": {
   "codemirror_mode": {
    "name": "ipython",
    "version": 3
   },
   "file_extension": ".py",
   "mimetype": "text/x-python",
   "name": "python",
   "nbconvert_exporter": "python",
   "pygments_lexer": "ipython3",
   "version": "3.6.2"
  }
 },
 "nbformat": 4,
 "nbformat_minor": 2
}
